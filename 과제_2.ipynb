{
  "nbformat": 4,
  "nbformat_minor": 0,
  "metadata": {
    "colab": {
      "provenance": [],
      "collapsed_sections": [],
      "authorship_tag": "ABX9TyMR1jfzpxXAGD8hOKdMwAyF",
      "include_colab_link": true
    },
    "kernelspec": {
      "name": "python3",
      "display_name": "Python 3"
    },
    "language_info": {
      "name": "python"
    }
  },
  "cells": [
    {
      "cell_type": "markdown",
      "metadata": {
        "id": "view-in-github",
        "colab_type": "text"
      },
      "source": [
        "<a href=\"https://colab.research.google.com/github/kimtaehyeokkkk/-/blob/main/%EA%B3%BC%EC%A0%9C_2.ipynb\" target=\"_parent\"><img src=\"https://colab.research.google.com/assets/colab-badge.svg\" alt=\"Open In Colab\"/></a>"
      ]
    },
    {
      "cell_type": "code",
      "source": [
        "n=[]\n",
        "\n",
        "n.append(int(input('자연수 한 개를 입력하세요.')))\n",
        "\n",
        "for i in range(1,100):\n",
        "  number=int(input('계속 입력을 원하시면, 자연수 한 개를 입력하시고, 아니라면 0을 입력하세요.'))\n",
        "  if (i==99):\n",
        "    print('이제 그만하세요. 벌써 100개를 입력했어요.')\n",
        "    break\n",
        "\n",
        "  if(number==0):\n",
        "    break\n",
        "  else:\n",
        "    n.append(number)\n",
        "\n",
        "for j in range(len(n)):\n",
        "  for k in range(j+1,len(n)):\n",
        "    l=j\n",
        "    if n[k]>n[l]:\n",
        "      n[k], n[l]=n[l], n[k]\n",
        "\n",
        "print('당신이 입력한 숫자는 큰 것부터 순서대로 말한다며 아래와 같습니다.')\n",
        "print(n)"
      ],
      "metadata": {
        "colab": {
          "base_uri": "https://localhost:8080/"
        },
        "id": "DL7nJ7Zi2osT",
        "outputId": "02a2fec4-e935-4bdb-8094-249b60feb1e8"
      },
      "execution_count": null,
      "outputs": [
        {
          "output_type": "stream",
          "name": "stdout",
          "text": [
            "자연수 한 개를 입력하세요.65\n",
            "계속 입력을 원하시면, 자연수 한 개를 입력하시고, 아니라면 0을 입력하세요.25\n",
            "계속 입력을 원하시면, 자연수 한 개를 입력하시고, 아니라면 0을 입력하세요.33\n",
            "계속 입력을 원하시면, 자연수 한 개를 입력하시고, 아니라면 0을 입력하세요.0\n",
            "당신이 입력한 숫자는 큰 것부터 순서대로 말한다며 아래와 같습니다.\n",
            "[65, 33, 25]\n"
          ]
        }
      ]
    },
    {
      "cell_type": "code",
      "execution_count": null,
      "metadata": {
        "id": "9ZTpnpxpfShg",
        "colab": {
          "base_uri": "https://localhost:8080/"
        },
        "outputId": "22400eb7-4e90-46af-8de9-f9612f3eabd5"
      },
      "outputs": [
        {
          "output_type": "stream",
          "name": "stdout",
          "text": [
            "숫자를 입력해주세요.5\n",
            "1\n",
            "*2\n",
            "**3\n",
            "***4\n",
            "****5\n"
          ]
        }
      ],
      "source": [
        "index=1\n",
        "\n",
        "a=int(input('숫자를 입력해주세요.'))\n",
        "\n",
        "if (a>30):\n",
        "  print('너무 많습니다.')\n",
        "else:\n",
        "  while(index<a+1):\n",
        "    print('*'*(index-1)+str(index))\n",
        "    index+=1"
      ]
    },
    {
      "cell_type": "code",
      "source": [
        "index=1\n",
        "\n",
        "a=int(input('숫자를 입력해주세요.'))\n",
        "\n",
        "if (a>30):\n",
        "  print('너무 많습니다.')\n",
        "else:\n",
        "  while(index<a+1):\n",
        "    print('*'*(index-1)+str(index))\n",
        "    index+=1"
      ],
      "metadata": {
        "colab": {
          "base_uri": "https://localhost:8080/"
        },
        "id": "Io7nvN3DbJRh",
        "outputId": "dbc3ebc2-e437-4e07-c37b-e43d4526e3f0"
      },
      "execution_count": null,
      "outputs": [
        {
          "output_type": "stream",
          "name": "stdout",
          "text": [
            "숫자를 입력해주세요.31\n",
            "너무 많습니다.\n"
          ]
        }
      ]
    }
  ]
}