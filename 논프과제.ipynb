{
  "nbformat": 4,
  "nbformat_minor": 0,
  "metadata": {
    "colab": {
      "provenance": [],
      "authorship_tag": "ABX9TyMAwQd/7chyoYVKkWn5mBtL",
      "include_colab_link": true
    },
    "kernelspec": {
      "name": "python3",
      "display_name": "Python 3"
    },
    "language_info": {
      "name": "python"
    }
  },
  "cells": [
    {
      "cell_type": "markdown",
      "metadata": {
        "id": "view-in-github",
        "colab_type": "text"
      },
      "source": [
        "<a href=\"https://colab.research.google.com/github/kimtaehyeokkkk/-/blob/main/%EB%85%BC%ED%94%84%EA%B3%BC%EC%A0%9C.ipynb\" target=\"_parent\"><img src=\"https://colab.research.google.com/assets/colab-badge.svg\" alt=\"Open In Colab\"/></a>"
      ]
    },
    {
      "cell_type": "code",
      "execution_count": null,
      "metadata": {
        "colab": {
          "base_uri": "https://localhost:8080/"
        },
        "id": "JEQMYTal_dbA",
        "outputId": "e24160aa-75bd-49aa-9518-725efd8d351d"
      },
      "outputs": [
        {
          "output_type": "stream",
          "name": "stdout",
          "text": [
            "3\n"
          ]
        }
      ],
      "source": [
        "# 202201055 김태혁\n",
        "a=1\n",
        "b=2\n",
        "print(a+b)"
      ]
    },
    {
      "cell_type": "code",
      "source": [
        "Answer = int(input(\"숫자를 입력하시오. \"))\n",
        "if Answer == int(Answer) >=30:\n",
        "  print(\"너무 많습니다.\")\n",
        "\n",
        "elif Answer == int(Answer)<=30:\n",
        "  for i in range(1,Answer+1):\n",
        "    for j in range(1,i+1):\n",
        "      print(j,end=\"\")\n",
        "    print()"
      ],
      "metadata": {
        "colab": {
          "base_uri": "https://localhost:8080/"
        },
        "id": "4t1Hm2gk_twV",
        "outputId": "224ac5d2-7ead-4d87-9264-1361e9f99f5d"
      },
      "execution_count": null,
      "outputs": [
        {
          "output_type": "stream",
          "name": "stdout",
          "text": [
            "숫자를 입력하시오. 5\n",
            "1\n",
            "12\n",
            "123\n",
            "1234\n",
            "12345\n"
          ]
        }
      ]
    },
    {
      "cell_type": "code",
      "source": [
        "Answer = int(input(\"숫자를 입력하시오. \"))\n",
        "if Answer == int(Answer) >=30:\n",
        "  print(\"너무 많습니다.\")\n",
        "\n",
        "elif Answer == int(Answer)<=30:\n",
        "  for i in range(1,Answer+1):\n",
        "    for j in range(1,i+1):\n",
        "      print(j,end=\"\")\n",
        "    print()"
      ],
      "metadata": {
        "colab": {
          "base_uri": "https://localhost:8080/"
        },
        "id": "-ScM8T_DEHql",
        "outputId": "7395903d-967f-4c63-c331-94ddb2bbc675"
      },
      "execution_count": null,
      "outputs": [
        {
          "output_type": "stream",
          "name": "stdout",
          "text": [
            "숫자를 입력하시오. 31\n",
            "너무 많습니다.\n"
          ]
        }
      ]
    },
    {
      "cell_type": "code",
      "source": [
        "Answer=str(input(\"숫자를 입력하시오: \"))\n",
        "if Answer.isdecimal():\n",
        "  Answer=int(Answer)\n",
        "  if Answer>=30:\n",
        "    print(\"너무 많습니다.\")\n",
        "  else:\n",
        "    for i in range(1, Answer+1):\n",
        "      for j in range(1, i+1):\n",
        "        print(j, end=\"\")\n",
        "      print()\n",
        "else:\n",
        "  print(\"정수로 입력하세요.\")"
      ],
      "metadata": {
        "colab": {
          "base_uri": "https://localhost:8080/"
        },
        "id": "hpNfKHL7B7Zj",
        "outputId": "c36ea9d0-39c8-4863-a6d6-b6312cf776f9"
      },
      "execution_count": null,
      "outputs": [
        {
          "output_type": "stream",
          "name": "stdout",
          "text": [
            "숫자를 입력하시오: 6\n",
            "1\n",
            "12\n",
            "123\n",
            "1234\n",
            "12345\n",
            "123456\n"
          ]
        }
      ]
    },
    {
      "cell_type": "code",
      "source": [
        "Answer=str(input(\"숫자를 입력하시오: \"))\n",
        "if Answer.isdecimal():\n",
        "  Answer=int(Answer)\n",
        "  if Answer>=30:\n",
        "    print(\"너무 많습니다.\")\n",
        "  else:\n",
        "    for i in range(1, Answer+1):\n",
        "      for j in range(1, i+1):\n",
        "        print(j, end=\"\")\n",
        "      print()\n",
        "else:\n",
        "  print(\"정수로 입력하세요.\")"
      ],
      "metadata": {
        "id": "FQ76ux_HDdr4",
        "outputId": "9abe32ba-e895-4a5a-e118-4637f6922664",
        "colab": {
          "base_uri": "https://localhost:8080/"
        }
      },
      "execution_count": null,
      "outputs": [
        {
          "output_type": "stream",
          "name": "stdout",
          "text": [
            "숫자를 입력하시오: 32\n",
            "너무 많습니다.\n"
          ]
        }
      ]
    },
    {
      "cell_type": "code",
      "source": [
        "Answer=str(input(\"숫자를 입력하시오: \"))\n",
        "if Answer.isdecimal():\n",
        "  Answer=int(Answer)\n",
        "  if Answer>=30:\n",
        "    print(\"너무 많습니다.\")\n",
        "  else:\n",
        "    for i in range(1, Answer+1):\n",
        "      for j in range(1, i+1):\n",
        "        print(j, end=\"\")\n",
        "      print()\n",
        "else:\n",
        "  print(\"정수로 입력하세요.\")"
      ],
      "metadata": {
        "id": "Pem6UsdiDg1b",
        "outputId": "6139d3a7-18d0-4d31-b2f6-7384bae2875f",
        "colab": {
          "base_uri": "https://localhost:8080/"
        }
      },
      "execution_count": null,
      "outputs": [
        {
          "output_type": "stream",
          "name": "stdout",
          "text": [
            "숫자를 입력하시오: d\n",
            "정수로 입력하세요.\n"
          ]
        }
      ]
    }
  ]
}