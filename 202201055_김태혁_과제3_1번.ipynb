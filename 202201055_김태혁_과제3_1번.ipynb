{
  "nbformat": 4,
  "nbformat_minor": 0,
  "metadata": {
    "colab": {
      "provenance": [],
      "collapsed_sections": [],
      "authorship_tag": "ABX9TyNAAXYSgOPUgaUi2UkLJosg",
      "include_colab_link": true
    },
    "kernelspec": {
      "name": "python3",
      "display_name": "Python 3"
    },
    "language_info": {
      "name": "python"
    }
  },
  "cells": [
    {
      "cell_type": "markdown",
      "metadata": {
        "id": "view-in-github",
        "colab_type": "text"
      },
      "source": [
        "<a href=\"https://colab.research.google.com/github/kimtaehyeokkkk/python/blob/main/202201055_%EA%B9%80%ED%83%9C%ED%98%81_%EA%B3%BC%EC%A0%9C3_1%EB%B2%88.ipynb\" target=\"_parent\"><img src=\"https://colab.research.google.com/assets/colab-badge.svg\" alt=\"Open In Colab\"/></a>"
      ]
    },
    {
      "cell_type": "code",
      "execution_count": null,
      "metadata": {
        "colab": {
          "base_uri": "https://localhost:8080/"
        },
        "id": "kzWM2z3IWI5A",
        "outputId": "58f61444-d1f6-4f9e-ac06-0e7c7fe6d189"
      },
      "outputs": [
        {
          "output_type": "stream",
          "name": "stdout",
          "text": [
            "자연수 한개를 입력하세요.12\n",
            "자연수 한개를 입력하세요.4\n",
            "B. 4는 12의 약수이지만, 12가 아니다.\n",
            "1\n"
          ]
        }
      ],
      "source": [
        "x=int(input('자연수 한개를 입력하세요.'))\n",
        "y=int(input('자연수 한개를 입력하세요.'))\n",
        "\n",
        "A=('A. {0}와 {1}는 같은 숫자이다.'.format(x, y))\n",
        "B=('B. {1}는 {0}의 약수이지만, {0}가 아니다.'.format(x, y))\n",
        "C=('C. {0}는 {1}의 약수이지만, {1}가 아니다.'.format(x, y))\n",
        "D=('D. {0}와 {1}는 서로의 약수가 아니다.'.format(x, y))\n",
        "\n",
        "if(x==y):\n",
        "  print(A)\n",
        "elif(x%y==0):\n",
        "  print(B)\n",
        "elif(y%x==0):\n",
        "  print(C)\n",
        "else:\n",
        "  print(D)\n",
        "\n",
        "def f(x, y):\n",
        "  result1=y%x\n",
        "  return result1\n",
        "def f(y, x):\n",
        "  result2=x%y\n",
        "  return result2\n",
        "\n",
        "if (f(x, y)==0):\n",
        "  print(1)\n",
        "\n",
        "elif (f(x, y)==1):\n",
        "  print(1)\n",
        "\n",
        "elif (f(y, x)==0):\n",
        "  print(1)\n",
        "\n",
        "else:\n",
        "  print(0)"
      ]
    }
  ]
}