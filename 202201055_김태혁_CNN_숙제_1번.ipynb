{
  "nbformat": 4,
  "nbformat_minor": 0,
  "metadata": {
    "colab": {
      "provenance": [],
      "authorship_tag": "ABX9TyOq/7OtmVH/kemZFg7516M8",
      "include_colab_link": true
    },
    "kernelspec": {
      "name": "python3",
      "display_name": "Python 3"
    },
    "language_info": {
      "name": "python"
    }
  },
  "cells": [
    {
      "cell_type": "markdown",
      "metadata": {
        "id": "view-in-github",
        "colab_type": "text"
      },
      "source": [
        "<a href=\"https://colab.research.google.com/github/kimtaehyeokkkk/python/blob/main/202201055_%EA%B9%80%ED%83%9C%ED%98%81_CNN_%EC%88%99%EC%A0%9C_1%EB%B2%88.ipynb\" target=\"_parent\"><img src=\"https://colab.research.google.com/assets/colab-badge.svg\" alt=\"Open In Colab\"/></a>"
      ]
    },
    {
      "cell_type": "code",
      "execution_count": null,
      "metadata": {
        "colab": {
          "base_uri": "https://localhost:8080/",
          "height": 1000
        },
        "id": "P8qTi5DME4uH",
        "outputId": "18a98e01-c609-4e99-b7d9-df5f62fcdf5e"
      },
      "outputs": [
        {
          "output_type": "display_data",
          "data": {
            "text/plain": [
              "<Figure size 432x288 with 1 Axes>"
            ],
            "image/png": "[encoded data removed]"
          },
          "metadata": {
            "needs_background": "light"
          }
        },
        {
          "output_type": "stream",
          "name": "stdout",
          "text": [
            "0  0  0  0  1  0  0  0  0  22 88 1881721321251411991439  0  0  0  1  0  0  0  0  0  \n",
            "0  0  0  1  0  0  20 13119920619620224225525525022219720618812617 0  0  0  0  0  0  \n",
            "0  0  0  1  0  35 21419118317817516815016215915215817918318919518582 0  0  0  0  0  \n",
            "0  0  0  0  0  17019017217717617116916215514815416917417517517718318812 0  0  0  0  \n",
            "0  0  0  0  25 19418017817418418718918718418118920019719319017817519490 0  0  0  0  \n",
            "0  0  0  0  42 2181911972082042112092102122112142152132142112111912001580  0  0  0  \n",
            "0  0  0  0  88 22121521721921118515011810799 88 83 90 1352122032072191690  0  0  0  \n",
            "0  0  0  0  0  27 11816240 0  0  0  10 19 28 39 47 36 0  0  2032302202030  0  0  0  \n",
            "0  0  0  0  13813671 69 54 21621720318416816316216317822118638 26 7  0  0  0  0  0  \n",
            "0  0  0  0  67 13415422412966 81 11712912813213713112986 73 15715113421618 0  0  0  \n",
            "0  0  0  0  20319817218320625525525024324023923523824425523818416086 98 0  0  0  0  \n",
            "0  0  0  0  12218822415110512797 10010511411711711310398 11114225419125549 0  0  0  \n",
            "0  0  0  0  16317920095 15419819720020019819719819920220017686 20615716210 0  0  0  \n",
            "0  0  0  0  19720122971 14419418118317918218017918019018519776 21918520134 0  0  0  \n",
            "0  0  0  0  19919322658 15419218418718418618418518319219120056 21920320760 0  0  0  \n",
            "0  0  0  0  20119422441 16319018618618418518318517819019420233 21120020673 0  0  0  \n",
            "0  0  0  0  20119722217 17219018618718218618518718018719320226 21220220376 0  0  0  \n",
            "0  0  0  0  2001972230  17718918418517818418318418018318920335 19620320384 0  0  0  \n",
            "0  0  0  0  2001972230  18518718518718018418218317818218320544 15920720185 0  0  0  \n",
            "0  0  0  0  1871982250  19418818418518018318318418118117720646 12921120088 0  0  0  \n",
            "0  0  0  6  1862002110  19918918418418518218318418518217520550 97 21619793 0  0  0  \n",
            "0  0  0  5  1852041840  20218818218218318318418218018217420263 59 22019694 0  0  0  \n",
            "0  0  0  5  1842061570  20418718718919219019019119018718320278 35 22219795 0  0  0  \n",
            "0  0  0  5  1832081270  19716615314914914614814915015115819190 8  22319599 0  0  0  \n",
            "0  0  0  6  1842081140  2041731611801761721731731741761622021150  2291991050  0  0  \n",
            "0  0  0  9  1782041150  12113511411711411411711811911711314763 0  2251961070  0  0  \n",
            "0  0  0  18 1802061310  0  0  0  0  0  0  0  0  0  0  0  0  0  0  2241971230  0  0  \n",
            "0  0  0  0  14115176 0  1  1  0  0  0  0  0  0  0  0  0  0  0  0  13316773 0  0  0  \n",
            "\n",
            "Epoch 1: val_loss improved from inf to 0.35774, saving model to ./data/model/MNIST_CNN.hdf5\n",
            "\n",
            "Epoch 2: val_loss improved from 0.35774 to 0.29146, saving model to ./data/model/MNIST_CNN.hdf5\n",
            "\n",
            "Epoch 3: val_loss improved from 0.29146 to 0.26543, saving model to ./data/model/MNIST_CNN.hdf5\n",
            "\n",
            "Epoch 4: val_loss improved from 0.26543 to 0.25867, saving model to ./data/model/MNIST_CNN.hdf5\n",
            "\n",
            "Epoch 5: val_loss improved from 0.25867 to 0.24917, saving model to ./data/model/MNIST_CNN.hdf5\n",
            "\n",
            "Epoch 6: val_loss improved from 0.24917 to 0.24487, saving model to ./data/model/MNIST_CNN.hdf5\n",
            "\n",
            "Epoch 7: val_loss improved from 0.24487 to 0.24251, saving model to ./data/model/MNIST_CNN.hdf5\n",
            "\n",
            "Epoch 8: val_loss did not improve from 0.24251\n",
            "\n",
            "Epoch 9: val_loss did not improve from 0.24251\n",
            "\n",
            "Epoch 10: val_loss did not improve from 0.24251\n",
            "\n",
            "Epoch 11: val_loss did not improve from 0.24251\n",
            "\n",
            "Epoch 12: val_loss did not improve from 0.24251\n",
            "313/313 [==============================] - 9s 29ms/step - loss: 0.2851 - accuracy: 0.9138\n",
            "\n",
            " Test Accuracy: 0.9138\n"
          ]
        }
      ],
      "source": [
        "import tensorflow as tf\n",
        "import matplotlib.pyplot as plt\n",
        "import numpy as np\n",
        "from tensorflow.keras.models import Sequential\n",
        "from tensorflow.keras.layers import Dense, Dropout, Flatten, Conv2D, MaxPooling2D\n",
        "from tensorflow.keras.callbacks import ModelCheckpoint,EarlyStopping\n",
        "from tensorflow.keras.datasets import mnist\n",
        "from tensorflow.keras.utils import to_categorical\n",
        "\n",
        "\n",
        "fashion_mnist = tf.keras.datasets.fashion_mnist\n",
        "\n",
        "(X_train, y_train), (X_test, y_test) = fashion_mnist.load_data()\n",
        "\n",
        "type(X_train)\n",
        "\n",
        "X_train.shape\n",
        "\n",
        "plt.imshow(X_train[5], cmap='Greys')\n",
        "plt.show()\n",
        "\n",
        "y_test[0:50]\n",
        "\n",
        "import sys\n",
        "\n",
        "for x in X_train[5]:\n",
        "    for i in x:\n",
        "        sys.stdout.write(\"%-3s\" % i)\n",
        "    sys.stdout.write('\\n')\n",
        "\n",
        "X_train = X_train.reshape(X_train.shape[0], 28, 28, 1).astype('float32') / 255\n",
        "X_test = X_test.reshape(X_test.shape[0], 28, 28, 1).astype('float32') / 255\n",
        "y_train = to_categorical(y_train)\n",
        "y_test = to_categorical(y_test)\n",
        "\n",
        "y_train[5]\n",
        "\n",
        "type(y_train)\n",
        "\n",
        "model = Sequential()\n",
        "model.add(Conv2D(32, kernel_size=(4, 2), input_shape=(28, 28, 1), activation='relu'))\n",
        "model.add(Conv2D(64, (4, 2), activation='relu'))\n",
        "model.add(MaxPooling2D(pool_size=(1,1)))\n",
        "model.add(Dropout(0.1))\n",
        "model.add(Flatten())\n",
        "model.add(Dense(128,  activation='relu'))\n",
        "model.add(Dropout(0.1))\n",
        "model.add(Dense(10, activation='softmax'))\n",
        "\n",
        "model.compile(loss='categorical_crossentropy',\n",
        "              optimizer='adam',\n",
        "              metrics=['accuracy'])\n",
        "\n",
        "\n",
        "modelpath=\"./data/model/MNIST_CNN.hdf5\"\n",
        "\n",
        "\n",
        "checkpointer = ModelCheckpoint(filepath=modelpath, monitor='val_loss', verbose=1, save_best_only=True)\n",
        "early_stopping_callback = EarlyStopping(monitor='val_loss', patience=5)\n",
        "\n",
        "history = model.fit(X_train, y_train, validation_split=0.1, epochs=20, batch_size=500, verbose=0, callbacks=[early_stopping_callback,checkpointer])\n",
        "\n",
        "print(\"\\n Test Accuracy: %.4f\" % (model.evaluate(X_test, y_test)[1]))\n",
        "\n",
        "\n",
        "\n"
      ]
    },
    {
      "cell_type": "code",
      "source": [
        "y_vloss = history.history['val_loss']\n",
        "y_loss = history.history['loss']\n",
        "\n",
        "x_len = np.arange(len(y_loss))\n",
        "plt.plot(x_len, y_vloss, marker='.', c=\"red\", label='Testset_loss')\n",
        "plt.plot(x_len, y_loss, marker='.', c=\"blue\", label='Trainset_loss')\n",
        "\n",
        "\n",
        "plt.legend(loc='upper right')\n",
        "plt.grid()\n",
        "plt.xlabel('epoch')\n",
        "plt.ylabel('loss')\n",
        "plt.show()"
      ],
      "metadata": {
        "colab": {
          "base_uri": "https://localhost:8080/",
          "height": 279
        },
        "id": "6_Zlr1s2eiL_",
        "outputId": "305b49d7-3df5-4531-db30-412d6254b557"
      },
      "execution_count": null,
      "outputs": [
        {
          "output_type": "display_data",
          "data": {
            "text/plain": [
              "<Figure size 432x288 with 1 Axes>"
            ],
            "image/png": "[encoded data removed]"
          },
          "metadata": {
            "needs_background": "light"
          }
        }
      ]
    }
  ]
}